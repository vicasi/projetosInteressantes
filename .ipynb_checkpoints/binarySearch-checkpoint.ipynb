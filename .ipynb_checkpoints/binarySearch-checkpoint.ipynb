{
 "cells": [
  {
   "cell_type": "code",
   "execution_count": 1,
   "id": "9d95969a-c711-4ba3-85e0-859acc57ea0b",
   "metadata": {},
   "outputs": [],
   "source": []
  },
  {
   "cell_type": "code",
   "execution_count": 31,
   "id": "2f13abc8-cef5-4606-855f-45e9f18775ae",
   "metadata": {},
   "outputs": [],
   "source": [
    "lista = (14, 26, 25, 7, 33, 8, 29, 48, 57, 38, 32, 19, 44, 97,58, 78, 99, 54, 40, 25, 15, 74, 41, 25, 72, 23, 28, 76, 99, 9, 57, 21, 56, 75)\n",
    "d = 26\n",
    "\n",
    "\n",
    "def binarySearch(arr, x):\n",
    "    low = 0\n",
    "    mid = 0\n",
    "    high = len(arr)\n",
    "    while low <= high:\n",
    "        mid = int((high + low)/2) - 1\n",
    "        if arr[mid] < x:\n",
    "            low = mid + 1\n",
    "        elif arr[mid] > x:\n",
    "            high = mid - 1\n",
    "        else:\n",
    "            return mid\n",
    "    return -1\n",
    "            \n",
    "            \n",
    "    "
   ]
  },
  {
   "cell_type": "code",
   "execution_count": 32,
   "id": "97222210-ed40-4229-9798-ad44c233641b",
   "metadata": {},
   "outputs": [
    {
     "name": "stdout",
     "output_type": "stream",
     "text": [
      "resultado encontrado 1\n"
     ]
    }
   ],
   "source": [
    "if __name__ == \"__main__\":\n",
    "    resultado = binarySearch(lista, d)\n",
    "    if resultado != -1:\n",
    "        print('resultado encontrado', resultado)\n",
    "    else:\n",
    "        print('resultado nao encontrado codigo ', resultado)"
   ]
  },
  {
   "cell_type": "code",
   "execution_count": null,
   "id": "e392509e-f4f1-41ee-8f6f-28024a432416",
   "metadata": {},
   "outputs": [],
   "source": []
  }
 ],
 "metadata": {
  "kernelspec": {
   "display_name": "Python 3 (ipykernel)",
   "language": "python",
   "name": "python3"
  },
  "language_info": {
   "codemirror_mode": {
    "name": "ipython",
    "version": 3
   },
   "file_extension": ".py",
   "mimetype": "text/x-python",
   "name": "python",
   "nbconvert_exporter": "python",
   "pygments_lexer": "ipython3",
   "version": "3.9.12"
  }
 },
 "nbformat": 4,
 "nbformat_minor": 5
}
